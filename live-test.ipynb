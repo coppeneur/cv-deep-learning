{
 "cells": [
  {
   "metadata": {},
   "cell_type": "markdown",
   "source": "# Notebook to test the model using the webcam",
   "id": "ec2b2cc56670b83e"
  },
  {
   "metadata": {
    "ExecuteTime": {
     "end_time": "2024-05-28T08:59:34.518947Z",
     "start_time": "2024-05-28T08:59:34.517252Z"
    }
   },
   "cell_type": "code",
   "source": [
    "import torch\n",
    "import cv2\n",
    "from torchvision import transforms\n",
    "from PIL import Image\n",
    "import numpy as np\n"
   ],
   "id": "2d838593c7870f22",
   "outputs": [],
   "execution_count": 13
  },
  {
   "metadata": {
    "ExecuteTime": {
     "end_time": "2024-05-28T08:59:34.529007Z",
     "start_time": "2024-05-28T08:59:34.527133Z"
    }
   },
   "cell_type": "code",
   "source": "from src import models as m",
   "id": "1c2edaa7f3113e0c",
   "outputs": [],
   "execution_count": 14
  },
  {
   "metadata": {
    "ExecuteTime": {
     "end_time": "2024-05-28T08:59:34.539764Z",
     "start_time": "2024-05-28T08:59:34.537721Z"
    }
   },
   "cell_type": "code",
   "source": [
    "def preprocess_image(image):\n",
    "    image = Image.fromarray(image)\n",
    "    image = transform(image).unsqueeze(0)\n",
    "    return image\n",
    "\n",
    "def get_emotion_prediction(image):\n",
    "    image = preprocess_image(image)\n",
    "    image = image.to('cuda' if torch.cuda.is_available() else 'cpu')\n",
    "    with torch.no_grad():\n",
    "        output = model(image)\n",
    "        probabilities = torch.nn.functional.softmax(output, dim=1).squeeze().cpu().numpy()\n",
    "    return probabilities"
   ],
   "id": "c953c037d5ba2785",
   "outputs": [],
   "execution_count": 15
  },
  {
   "metadata": {
    "ExecuteTime": {
     "end_time": "2024-05-28T08:59:34.542609Z",
     "start_time": "2024-05-28T08:59:34.540598Z"
    }
   },
   "cell_type": "code",
   "source": [
    "emotion_dict = {0: 'angry', 1: 'disgust', 2: 'fear', 3: 'happy', 4: 'sad', 5: 'surprise', 6: 'neutral'}\n",
    "\n",
    "transform = transforms.Compose([\n",
    "    transforms.Grayscale(num_output_channels=1),\n",
    "    transforms.Resize((48, 48)),\n",
    "    transforms.ToTensor(),\n",
    "    transforms.Normalize((0.5,), (0.5,))\n",
    "])\n"
   ],
   "id": "8f75c1d17ce38c2e",
   "outputs": [],
   "execution_count": 16
  },
  {
   "metadata": {
    "ExecuteTime": {
     "end_time": "2024-05-28T08:59:34.553324Z",
     "start_time": "2024-05-28T08:59:34.543232Z"
    }
   },
   "cell_type": "code",
   "source": [
    "# use saved model\n",
    "criterion = torch.nn.CrossEntropyLoss()\n",
    "model = m.load_model(m.SimpleCNN(), 'bestmodels/SimpleCNN_best_model.pth')\n",
    "model.eval()\n",
    "model.to('cuda' if torch.cuda.is_available() else 'cpu')"
   ],
   "id": "4d2a754e66251db0",
   "outputs": [
    {
     "data": {
      "text/plain": [
       "SimpleCNN(\n",
       "  (features): Sequential(\n",
       "    (0): Conv2d(1, 32, kernel_size=(3, 3), stride=(1, 1), padding=(1, 1))\n",
       "    (1): ReLU()\n",
       "    (2): MaxPool2d(kernel_size=2, stride=2, padding=0, dilation=1, ceil_mode=False)\n",
       "    (3): Conv2d(32, 64, kernel_size=(3, 3), stride=(1, 1), padding=(1, 1))\n",
       "    (4): ReLU()\n",
       "    (5): MaxPool2d(kernel_size=2, stride=2, padding=0, dilation=1, ceil_mode=False)\n",
       "    (6): Conv2d(64, 128, kernel_size=(3, 3), stride=(1, 1), padding=(1, 1))\n",
       "    (7): ReLU()\n",
       "    (8): MaxPool2d(kernel_size=2, stride=2, padding=0, dilation=1, ceil_mode=False)\n",
       "    (9): Conv2d(128, 256, kernel_size=(3, 3), stride=(1, 1), padding=(1, 1))\n",
       "    (10): ReLU()\n",
       "    (11): MaxPool2d(kernel_size=2, stride=2, padding=0, dilation=1, ceil_mode=False)\n",
       "  )\n",
       "  (classifier): Sequential(\n",
       "    (0): Linear(in_features=2304, out_features=512, bias=True)\n",
       "    (1): ReLU()\n",
       "    (2): Dropout(p=0.5, inplace=False)\n",
       "    (3): Linear(in_features=512, out_features=7, bias=True)\n",
       "  )\n",
       ")"
      ]
     },
     "execution_count": 17,
     "metadata": {},
     "output_type": "execute_result"
    }
   ],
   "execution_count": 17
  },
  {
   "metadata": {
    "ExecuteTime": {
     "end_time": "2024-05-28T08:59:57.477327Z",
     "start_time": "2024-05-28T08:59:34.554680Z"
    }
   },
   "cell_type": "code",
   "source": [
    "cap = cv2.VideoCapture(0)\n",
    "# Assuming you have the emotion labels in a list\n",
    "emotion_labels = ['Angry', 'Disgust', 'Fear', 'Happy', 'Sad', 'Surprise', 'Neutral']\n",
    "\n",
    "yellow_color = (0, 255, 255)\n",
    "red_color = (0, 0, 255)\n",
    "\n",
    "while True:\n",
    "    ret, frame = cap.read()\n",
    "    if not ret:\n",
    "        break\n",
    "\n",
    "    # Convert frame to grayscale\n",
    "    gray_img = cv2.cvtColor(frame, cv2.COLOR_BGR2GRAY)\n",
    "\n",
    "    # Detect faces in the frame (you might want to use a better face detector)\n",
    "    face_cascade = cv2.CascadeClassifier(cv2.data.haarcascades + 'haarcascade_frontalface_default.xml')\n",
    "\n",
    "    faces = face_cascade.detectMultiScale(gray_img, scaleFactor=1.1, minNeighbors=5, minSize=(48, 48))\n",
    "    for (x, y, w, h) in faces:\n",
    "        cv2.rectangle(frame, (x, y), (x + w, y + h), yellow_color, thickness=7)\n",
    "        roi_gray = gray_img[y:y + h, x:x + w]\n",
    "        probabilities = get_emotion_prediction(roi_gray)\n",
    "\n",
    "        max_idx = np.argmax(probabilities)\n",
    "\n",
    "        # Display all emotion confidences and highlight the one with the highest probability\n",
    "        for i, (emotion, prob) in enumerate(zip(emotion_labels, probabilities)):\n",
    "            text = f\"{emotion}: {prob:.2f}\"\n",
    "            if i == max_idx:\n",
    "                cv2.putText(frame, text, (x, y - 10 - i * 20), cv2.FONT_HERSHEY_SIMPLEX, 0.6, red_color, 2)\n",
    "            else:\n",
    "                cv2.putText(frame, text, (x, y - 10 - i * 20), cv2.FONT_HERSHEY_SIMPLEX, 0.5, yellow_color, 1)\n",
    "\n",
    "\n",
    "    cv2.imshow('Live Emotion Detection', frame)\n",
    "\n",
    "    if cv2.waitKey(1) & 0xFF == ord('q'):\n",
    "        break\n",
    "\n",
    "cap.release()\n",
    "cv2.destroyAllWindows()\n"
   ],
   "id": "3d237eaa085512ad",
   "outputs": [],
   "execution_count": 18
  }
 ],
 "metadata": {
  "kernelspec": {
   "display_name": "Python 3",
   "language": "python",
   "name": "python3"
  },
  "language_info": {
   "codemirror_mode": {
    "name": "ipython",
    "version": 2
   },
   "file_extension": ".py",
   "mimetype": "text/x-python",
   "name": "python",
   "nbconvert_exporter": "python",
   "pygments_lexer": "ipython2",
   "version": "2.7.6"
  }
 },
 "nbformat": 4,
 "nbformat_minor": 5
}
