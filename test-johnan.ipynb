{
 "cells": [
  {
   "cell_type": "code",
   "source": [
    "# imports\n",
    "import dataset as ds\n",
    "import pandas as pd"
   ],
   "metadata": {
    "collapsed": false,
    "ExecuteTime": {
     "end_time": "2024-05-24T18:16:17.810379Z",
     "start_time": "2024-05-24T18:16:16.567417Z"
    }
   },
   "id": "794745d84382a878",
   "outputs": [],
   "execution_count": 2
  },
  {
   "metadata": {
    "ExecuteTime": {
     "end_time": "2024-05-24T18:16:17.812990Z",
     "start_time": "2024-05-24T18:16:17.811239Z"
    }
   },
   "cell_type": "code",
   "source": [
    "# Define the file path and target folder\n",
    "file_path = 'fer2013.tar.gz'\n",
    "\n",
    "# unpack dataset\n",
    "ds.unpack_tar_gz(file_path)"
   ],
   "id": "39dd5586c5714128",
   "outputs": [
    {
     "name": "stdout",
     "output_type": "stream",
     "text": [
      "Target folder 'data' is not empty. Assuming the file is already unpacked.\n"
     ]
    }
   ],
   "execution_count": 3
  },
  {
   "metadata": {
    "ExecuteTime": {
     "end_time": "2024-05-24T18:18:14.195230Z",
     "start_time": "2024-05-24T18:18:08.964707Z"
    }
   },
   "cell_type": "code",
   "source": [
    "import torchvision.transforms as transforms\n",
    "\n",
    "# TODO does training and valid need to be transformed ?\n",
    "# TODO chat gpt says yes\n",
    "# TODO AUGMENTATION ONLY on training set\n",
    "\n",
    "# Data augmentation and normalization for training\n",
    "train_transform = transforms.Compose([\n",
    "    transforms.ToPILImage(),\n",
    "    transforms.RandomHorizontalFlip(),\n",
    "    transforms.RandomCrop(32, padding=4),\n",
    "    transforms.ToTensor(),\n",
    "    transforms.Normalize(mean=[0.5], std=[0.5])\n",
    "])\n",
    "\n",
    "# Just normalization for validation and testing\n",
    "test_val_transform = transforms.Compose([\n",
    "    transforms.ToPILImage(),\n",
    "    transforms.ToTensor(),\n",
    "    transforms.Normalize(mean=[0.5], std=[0.5])\n",
    "])\n",
    "\n",
    "train_dataset = ds.FerDataset('data/fer2013/fer2013.csv', transform=train_transform, mode='train')\n",
    "test_dataset = ds.FerDataset('data/fer2013/fer2013.csv', transform=valid_test_transform, mode='test')\n",
    "vali_dataset = ds.FerDataset('data/fer2013/fer2013.csv', transform=valid_test_transform, mode='val')"
   ],
   "id": "1b2f096c161732bd",
   "outputs": [],
   "execution_count": 9
  },
  {
   "metadata": {
    "ExecuteTime": {
     "end_time": "2024-05-24T18:18:19.280331Z",
     "start_time": "2024-05-24T18:18:14.196134Z"
    }
   },
   "cell_type": "code",
   "source": [
    "data_path = 'data/fer2013/fer2013.csv'\n",
    "batch_size = 128\n",
    "\n",
    "train_loader, valid_loader, test_loader = ds.get_dataloaders(data_path,train_transform, test_val_transform, batch_size)"
   ],
   "id": "da0f1eb3d5ed4c77",
   "outputs": [],
   "execution_count": 10
  }
 ],
 "metadata": {
  "kernelspec": {
   "display_name": "Python 3",
   "language": "python",
   "name": "python3"
  },
  "language_info": {
   "codemirror_mode": {
    "name": "ipython",
    "version": 2
   },
   "file_extension": ".py",
   "mimetype": "text/x-python",
   "name": "python",
   "nbconvert_exporter": "python",
   "pygments_lexer": "ipython2",
   "version": "2.7.6"
  }
 },
 "nbformat": 4,
 "nbformat_minor": 5
}
