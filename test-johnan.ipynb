{
 "cells": [
  {
   "metadata": {
    "ExecuteTime": {
     "end_time": "2024-05-24T21:00:25.371493Z",
     "start_time": "2024-05-24T21:00:24.129430Z"
    }
   },
   "cell_type": "code",
   "source": [
    "# imports\n",
    "import dataloader as ds\n",
    "import pandas as pd"
   ],
   "id": "794745d84382a878",
   "outputs": [],
   "execution_count": 1
  },
  {
   "metadata": {
    "ExecuteTime": {
     "end_time": "2024-05-24T21:00:25.373936Z",
     "start_time": "2024-05-24T21:00:25.372290Z"
    }
   },
   "cell_type": "code",
   "source": [
    "# Define the file path and target folder\n",
    "file_path = 'fer2013.tar.gz'\n",
    "\n",
    "# unpack dataset\n",
    "data_path = ds.unpack_tar_gz(file_path)"
   ],
   "id": "39dd5586c5714128",
   "outputs": [
    {
     "name": "stdout",
     "output_type": "stream",
     "text": [
      "Target folder 'data' is not empty. Assuming the file is already unpacked.\n"
     ]
    }
   ],
   "execution_count": 2
  },
  {
   "metadata": {
    "ExecuteTime": {
     "end_time": "2024-05-24T21:00:25.376367Z",
     "start_time": "2024-05-24T21:00:25.374442Z"
    }
   },
   "cell_type": "code",
   "source": [
    "import torchvision.transforms as transforms\n",
    "\n",
    "# TODO does training and valid need to be transformed ?\n",
    "# TODO chat gpt says yes\n",
    "# TODO AUGMENTATION ONLY on training set\n",
    "\n",
    "# Data augmentation and normalization for training\n",
    "train_transform = transforms.Compose([\n",
    "    transforms.ToPILImage(),\n",
    "    transforms.RandomHorizontalFlip(),\n",
    "    transforms.RandomCrop(32, padding=4),\n",
    "    transforms.ToTensor(),\n",
    "    transforms.Normalize(mean=[0.5], std=[0.5])\n",
    "])\n",
    "# TODO use AUGMENTATION\n",
    "train_transform = transforms.Compose([\n",
    "    transforms.ToPILImage(),\n",
    "    transforms.ToTensor(),\n",
    "    transforms.Normalize(mean=[0.5], std=[0.5])\n",
    "])\n",
    "\n",
    "# Just normalization for validation and testing\n",
    "test_val_transform = transforms.Compose([\n",
    "    transforms.ToPILImage(),\n",
    "    transforms.ToTensor(),\n",
    "    transforms.Normalize(mean=[0.5], std=[0.5])\n",
    "])"
   ],
   "id": "1b2f096c161732bd",
   "outputs": [],
   "execution_count": 3
  },
  {
   "metadata": {
    "ExecuteTime": {
     "end_time": "2024-05-24T21:00:30.873487Z",
     "start_time": "2024-05-24T21:00:25.376797Z"
    }
   },
   "cell_type": "code",
   "source": [
    "# data_path is declared while zipping the file\n",
    "batch_size = 64\n",
    "\n",
    "train_loader, valid_loader, test_loader = ds.get_dataloaders(data_path,train_transform, test_val_transform, batch_size)"
   ],
   "id": "da0f1eb3d5ed4c77",
   "outputs": [
    {
     "name": "stdout",
     "output_type": "stream",
     "text": [
      "            emotion\n",
      "count  28709.000000\n",
      "mean       3.317427\n",
      "std        1.876632\n",
      "min        0.000000\n",
      "25%        2.000000\n",
      "50%        3.000000\n",
      "75%        5.000000\n",
      "max        6.000000\n",
      "val mode activated\n",
      "3589\n",
      "           emotion\n",
      "count  3589.000000\n",
      "mean      3.360825\n",
      "std       1.846366\n",
      "min       0.000000\n",
      "25%       2.000000\n",
      "50%       3.000000\n",
      "75%       5.000000\n",
      "max       6.000000\n"
     ]
    }
   ],
   "execution_count": 4
  },
  {
   "metadata": {
    "ExecuteTime": {
     "end_time": "2024-05-24T21:00:30.877169Z",
     "start_time": "2024-05-24T21:00:30.875045Z"
    }
   },
   "cell_type": "code",
   "source": [
    "print(len(train_loader))\n",
    "print(len(valid_loader))\n",
    "print(len(test_loader))\n"
   ],
   "id": "5e05c69922108f8c",
   "outputs": [
    {
     "name": "stdout",
     "output_type": "stream",
     "text": [
      "449\n",
      "57\n",
      "57\n"
     ]
    }
   ],
   "execution_count": 5
  },
  {
   "metadata": {},
   "cell_type": "markdown",
   "source": [
    "# todos\n",
    "- [ ] convo filters\n",
    "    - [ ] padding for borders?\n",
    "- [ ] Max pooling -  used to downsample the image and reduce computational cost"
   ],
   "id": "fb7848ef67ee9f23"
  },
  {
   "metadata": {
    "ExecuteTime": {
     "end_time": "2024-05-24T21:00:30.880045Z",
     "start_time": "2024-05-24T21:00:30.877617Z"
    }
   },
   "cell_type": "code",
   "source": [
    "import torch\n",
    "import models as m\n"
   ],
   "id": "17b1739d4cb5605d",
   "outputs": [],
   "execution_count": 6
  },
  {
   "metadata": {
    "ExecuteTime": {
     "end_time": "2024-05-24T21:00:30.890970Z",
     "start_time": "2024-05-24T21:00:30.880551Z"
    }
   },
   "cell_type": "code",
   "source": [
    "for images, labels in valid_loader:\n",
    "    print(images.shape)  # This will print the shape of the input images for the first batch\n",
    "    break  # Break the loop after printing the shape of the first batch\n",
    "# torch.Size([64, 1, 48, 48])"
   ],
   "id": "63ae8cc71f12bcfc",
   "outputs": [
    {
     "name": "stdout",
     "output_type": "stream",
     "text": [
      "torch.Size([64, 1, 48, 48])\n"
     ]
    }
   ],
   "execution_count": 7
  },
  {
   "metadata": {
    "ExecuteTime": {
     "end_time": "2024-05-24T21:00:30.892795Z",
     "start_time": "2024-05-24T21:00:30.891497Z"
    }
   },
   "cell_type": "code",
   "source": [
    "print(len(valid_loader))  # Print the number of batches in the train DataLoader\n",
    "\n"
   ],
   "id": "41e93b58cd0414e4",
   "outputs": [
    {
     "name": "stdout",
     "output_type": "stream",
     "text": [
      "57\n"
     ]
    }
   ],
   "execution_count": 8
  },
  {
   "metadata": {
    "ExecuteTime": {
     "end_time": "2024-05-24T21:00:30.900335Z",
     "start_time": "2024-05-24T21:00:30.893427Z"
    }
   },
   "cell_type": "code",
   "source": "model = m.SimpleCNN()",
   "id": "8dba673a12e755ee",
   "outputs": [],
   "execution_count": 9
  },
  {
   "metadata": {
    "ExecuteTime": {
     "end_time": "2024-05-24T21:04:11.435194Z",
     "start_time": "2024-05-24T21:00:30.900938Z"
    }
   },
   "cell_type": "code",
   "source": [
    "import training as t\n",
    "\n",
    "t.train(model, train_loader, valid_loader, 5)"
   ],
   "id": "27f24e3d948315d8",
   "outputs": [
    {
     "name": "stderr",
     "output_type": "stream",
     "text": [
      "Training: 100%|██████████| 449/449 [00:42<00:00, 10.52it/s, Train Loss=1.71]\n",
      "Validation: 100%|██████████| 57/57 [00:01<00:00, 28.54it/s, Val Loss=1.51]\n"
     ]
    },
    {
     "name": "stdout",
     "output_type": "stream",
     "text": [
      "Epoch 1/5, Loss: 1.7145, Val Loss: 1.5071\n"
     ]
    },
    {
     "name": "stderr",
     "output_type": "stream",
     "text": [
      "Training: 100%|██████████| 449/449 [00:42<00:00, 10.61it/s, Train Loss=1.42]\n",
      "Validation: 100%|██████████| 57/57 [00:01<00:00, 28.68it/s, Val Loss=1.31]\n"
     ]
    },
    {
     "name": "stdout",
     "output_type": "stream",
     "text": [
      "Epoch 2/5, Loss: 1.4191, Val Loss: 1.3051\n"
     ]
    },
    {
     "name": "stderr",
     "output_type": "stream",
     "text": [
      "Training: 100%|██████████| 449/449 [00:41<00:00, 10.69it/s, Train Loss=1.25]\n",
      "Validation: 100%|██████████| 57/57 [00:01<00:00, 28.79it/s, Val Loss=1.22]\n"
     ]
    },
    {
     "name": "stdout",
     "output_type": "stream",
     "text": [
      "Epoch 3/5, Loss: 1.2547, Val Loss: 1.2188\n"
     ]
    },
    {
     "name": "stderr",
     "output_type": "stream",
     "text": [
      "Training: 100%|██████████| 449/449 [00:42<00:00, 10.62it/s, Train Loss=1.15]\n",
      "Validation: 100%|██████████| 57/57 [00:01<00:00, 28.98it/s, Val Loss=1.19]\n"
     ]
    },
    {
     "name": "stdout",
     "output_type": "stream",
     "text": [
      "Epoch 4/5, Loss: 1.1474, Val Loss: 1.1851\n"
     ]
    },
    {
     "name": "stderr",
     "output_type": "stream",
     "text": [
      "Training: 100%|██████████| 449/449 [00:41<00:00, 10.93it/s, Train Loss=1.06]\n",
      "Validation: 100%|██████████| 57/57 [00:01<00:00, 29.42it/s, Val Loss=1.16]\n"
     ]
    },
    {
     "name": "stdout",
     "output_type": "stream",
     "text": [
      "Epoch 5/5, Loss: 1.0574, Val Loss: 1.1626\n"
     ]
    },
    {
     "data": {
      "text/plain": [
       "<Figure size 640x480 with 1 Axes>"
      ],
      "image/png": "[encoded data removed]"
     },
     "metadata": {},
     "output_type": "display_data"
    },
    {
     "data": {
      "text/plain": [
       "([1.7145063500096378,\n",
       "  1.4191323578490447,\n",
       "  1.2546836920995224,\n",
       "  1.1473975994008156,\n",
       "  1.0574221749082706],\n",
       " [1.5070613643579316,\n",
       "  1.3050812273694758,\n",
       "  1.2188332886026616,\n",
       "  1.1850686564780117,\n",
       "  1.1625960511073732])"
      ]
     },
     "execution_count": 10,
     "metadata": {},
     "output_type": "execute_result"
    }
   ],
   "execution_count": 10
  }
 ],
 "metadata": {
  "kernelspec": {
   "display_name": "Python 3",
   "language": "python",
   "name": "python3"
  },
  "language_info": {
   "codemirror_mode": {
    "name": "ipython",
    "version": 2
   },
   "file_extension": ".py",
   "mimetype": "text/x-python",
   "name": "python",
   "nbconvert_exporter": "python",
   "pygments_lexer": "ipython2",
   "version": "2.7.6"
  }
 },
 "nbformat": 4,
 "nbformat_minor": 5
}
