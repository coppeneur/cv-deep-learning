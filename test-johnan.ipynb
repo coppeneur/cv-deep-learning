{
 "cells": [
  {
   "cell_type": "code",
   "source": [
    "# imports\n",
    "import dataset as ds\n",
    "import pandas as pd"
   ],
   "metadata": {
    "collapsed": false,
    "ExecuteTime": {
     "end_time": "2024-05-24T17:55:07.307359Z",
     "start_time": "2024-05-24T17:55:06.023526Z"
    }
   },
   "id": "794745d84382a878",
   "outputs": [],
   "execution_count": 1
  },
  {
   "metadata": {
    "ExecuteTime": {
     "end_time": "2024-05-24T17:55:07.310099Z",
     "start_time": "2024-05-24T17:55:07.308314Z"
    }
   },
   "cell_type": "code",
   "source": [
    "# Define the file path and target folder\n",
    "file_path = 'fer2013.tar.gz'\n",
    "\n",
    "# unpack dataset\n",
    "ds.unpack_tar_gz(file_path)"
   ],
   "id": "39dd5586c5714128",
   "outputs": [
    {
     "name": "stdout",
     "output_type": "stream",
     "text": [
      "Target folder 'data' is not empty. Assuming the file is already unpacked.\n"
     ]
    }
   ],
   "execution_count": 2
  },
  {
   "metadata": {
    "ExecuteTime": {
     "end_time": "2024-05-24T17:55:09.003987Z",
     "start_time": "2024-05-24T17:55:07.310543Z"
    }
   },
   "cell_type": "code",
   "source": "df = pd.read_csv('data/fer2013/fer2013.csv')",
   "id": "b6eed77ff1b23e7e",
   "outputs": [],
   "execution_count": 3
  },
  {
   "metadata": {},
   "cell_type": "markdown",
   "source": [
    "```\n",
    "print(df.shape)\n",
    "df.head()\n",
    "df['Usage'].value_counts()\n",
    "df['emotion'].value_counts()\n",
    "# plot the distribution of the emotions\n",
    "df['emotion'].value_counts().plot(kind='bar')\n",
    "```"
   ],
   "id": "7251ac1dfb035bb6"
  },
  {
   "metadata": {
    "ExecuteTime": {
     "end_time": "2024-05-24T17:55:14.036352Z",
     "start_time": "2024-05-24T17:55:09.004616Z"
    }
   },
   "cell_type": "code",
   "source": [
    "import torchvision.transforms as transforms\n",
    "\n",
    "# TODO does training and valid need to be transformed ?\n",
    "# TODO chat gpt says yes\n",
    "# TODO AUGMENTATION ONLY on training set\n",
    "\n",
    "# Data augmentation and normalization for training\n",
    "train_transform = transforms.Compose([\n",
    "    transforms.ToPILImage(),\n",
    "    transforms.RandomHorizontalFlip(),\n",
    "    transforms.RandomCrop(32, padding=4),\n",
    "    transforms.ToTensor(),\n",
    "    transforms.Normalize(mean=[0.5], std=[0.5])\n",
    "])\n",
    "\n",
    "# Just normalization for validation and testing\n",
    "valid_test_transform = transforms.Compose([\n",
    "    transforms.ToPILImage(),\n",
    "    transforms.ToTensor(),\n",
    "    transforms.Normalize(mean=[0.5], std=[0.5])\n",
    "])\n",
    "\n",
    "train_dataset = ds.FerDataset('data/fer2013/fer2013.csv', transform=train_transform, mode='train')\n",
    "test_dataset = ds.FerDataset('data/fer2013/fer2013.csv', transform=valid_test_transform, mode='test')\n",
    "vali_dataset = ds.FerDataset('data/fer2013/fer2013.csv', transform=valid_test_transform, mode='val')"
   ],
   "id": "1b2f096c161732bd",
   "outputs": [],
   "execution_count": 4
  }
 ],
 "metadata": {
  "kernelspec": {
   "display_name": "Python 3",
   "language": "python",
   "name": "python3"
  },
  "language_info": {
   "codemirror_mode": {
    "name": "ipython",
    "version": 2
   },
   "file_extension": ".py",
   "mimetype": "text/x-python",
   "name": "python",
   "nbconvert_exporter": "python",
   "pygments_lexer": "ipython2",
   "version": "2.7.6"
  }
 },
 "nbformat": 4,
 "nbformat_minor": 5
}
